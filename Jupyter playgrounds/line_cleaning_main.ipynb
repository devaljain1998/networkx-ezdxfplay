{
 "metadata": {
  "language_info": {
   "codemirror_mode": {
    "name": "ipython",
    "version": 3
   },
   "file_extension": ".py",
   "mimetype": "text/x-python",
   "name": "python",
   "nbconvert_exporter": "python",
   "pygments_lexer": "ipython3",
   "version": "3.8.6-final"
  },
  "orig_nbformat": 2,
  "kernelspec": {
   "name": "python3",
   "display_name": "Python 3",
   "language": "python"
  }
 },
 "nbformat": 4,
 "nbformat_minor": 2,
 "cells": [
  {
   "cell_type": "code",
   "execution_count": 2,
   "metadata": {},
   "outputs": [],
   "source": [
    "\"\"\"\r\n",
    "Author:\r\n",
    "    Deval Sethi (github: devaljain1998)\r\n",
    "Aim:\r\n",
    "    This module intends to remove all the drafting errors from the 'dxf' files.\r\n",
    "\"\"\"\r\n",
    "# IMPORTS\r\n",
    "import shapely\r\n",
    "from shapely.geometry import *\r\n",
    "from shapely.ops import *"
   ]
  },
  {
   "cell_type": "code",
   "execution_count": null,
   "metadata": {},
   "outputs": [],
   "source": [
    "TEST_CASES = {\n",
    "    'PERFECT': [\n",
    "        ((0, 0), (0, 10)),\n",
    "        ((0, 10), (10, 10)),\n",
    "        ((0, 10), (10, 10)),\n",
    "    ]\n",
    "}"
   ]
  }
 ]
}